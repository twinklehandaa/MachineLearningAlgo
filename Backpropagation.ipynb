{
 "cells": [
  {
   "cell_type": "code",
   "execution_count": 1,
   "id": "e1c3a262-1b01-42fa-a267-efca7b9f8e4f",
   "metadata": {},
   "outputs": [],
   "source": [
    "import numpy as np\n",
    "\n",
    "X= np.array(([2,9], [1,5], [3,6]), dtype=float)\n",
    "y= np.array(([92], [86], [89]), dtype=float)\n",
    "\n",
    "X= X/np.amax(X, axis=0) # maximum of X array longitudinally\n",
    "y= y/100"
   ]
  },
  {
   "cell_type": "code",
   "execution_count": 2,
   "id": "e6e1913b-5d13-47b0-85e7-500faeebd097",
   "metadata": {},
   "outputs": [],
   "source": [
    "# Sigmoid Function\n",
    "def sigmoid(x):\n",
    "    return 1/(1 + np.exp(-x))"
   ]
  },
  {
   "cell_type": "code",
   "execution_count": 3,
   "id": "6fa76fbe-c231-4415-aff6-02b648d12ca3",
   "metadata": {},
   "outputs": [],
   "source": [
    "# Derivative of Sigmoid Function\n",
    "def derivatives_sigmoid(x):\n",
    "    return x * (1-x)"
   ]
  },
  {
   "cell_type": "code",
   "execution_count": 4,
   "id": "1b5b1bdf-a469-4b23-ad45-f97c4eac75a6",
   "metadata": {},
   "outputs": [],
   "source": [
    "# Variable initialization\n",
    "epoch=5000  # Setting training iterations\n",
    "lr=0.1  # Setting learning rate\n",
    "\n",
    "inputlayer_neurons = 2  # Number of features in data set\n",
    "hiddenlayer_neurons = 3  # Number of hidden layers neurons\n",
    "output_neurons = 1  # Number of neurons at output layer"
   ]
  },
  {
   "cell_type": "code",
   "execution_count": 5,
   "id": "e33dfa2d-d901-489d-9094-f9eb598332ec",
   "metadata": {},
   "outputs": [],
   "source": [
    "# Weight and bias initialization\n",
    "wh=np.random.uniform(size=(inputlayer_neurons,hiddenlayer_neurons))\n",
    "bh=np.random.uniform(size=(1,hiddenlayer_neurons))\n",
    "wout=np.random.uniform(size=(hiddenlayer_neurons,output_neurons))\n",
    "bout=np.random.uniform(size=(1,output_neurons))"
   ]
  },
  {
   "cell_type": "code",
   "execution_count": 6,
   "id": "90dd778f-771f-47c8-9468-6c0a73750d69",
   "metadata": {},
   "outputs": [],
   "source": [
    "# Draws a random range of numbers uniformly of dim x*y\n",
    "for i in range(epoch):\n",
    "    # Forward Propogation\n",
    "    hinpl=np.dot(X,wh)  # Assuming X is your input data\n",
    "    hinp=hinpl + bh\n",
    "    hlayer_act = sigmoid(hinp)  # Assuming sigmoid is defined elsewhere\n",
    "\n",
    "    outinp1=np.dot(hlayer_act,wout)\n",
    "    outinp= outinp1+ bout\n",
    "    output = sigmoid(outinp)"
   ]
  },
  {
   "cell_type": "code",
   "execution_count": 7,
   "id": "123e1a6a-319a-462b-aea6-e9a58e9a54c2",
   "metadata": {},
   "outputs": [],
   "source": [
    "# Backpropagation\n",
    "EO = y-output  # Calculating the error at the output layer\n",
    "outgrad = derivatives_sigmoid(output)  # Gradient of the sigmoid function at the output\n",
    "d_output = EO * outgrad  # Delta for output layer weights\n",
    "EH = d_output.dot(wout.T)  # Error propagated to the hidden layer"
   ]
  },
  {
   "cell_type": "code",
   "execution_count": 8,
   "id": "5821dcf1-c5d0-49c9-bd47-719dc442d9b6",
   "metadata": {},
   "outputs": [],
   "source": [
    "# How much hidden layer weights contributed to error\n",
    "hiddengrad = derivatives_sigmoid(hlayer_act)  # Gradient of sigmoid at hidden layer\n",
    "d_hiddenlayer = EH * hiddengrad  # Delta for hidden layer weights"
   ]
  },
  {
   "cell_type": "code",
   "execution_count": 9,
   "id": "7db329b6-6766-4273-962c-26a3c3dbd09f",
   "metadata": {},
   "outputs": [],
   "source": [
    "# Dot product of next layer error and current layer output\n",
    "wout += hlayer_act.T.dot(d_output) * lr  # Updating output layer weights\n",
    "wh += X.T.dot(d_hiddenlayer) * lr  # Updating hidden layer weights"
   ]
  },
  {
   "cell_type": "code",
   "execution_count": 10,
   "id": "fb9044f9-f108-4858-abdc-dc93f8b2d5ae",
   "metadata": {},
   "outputs": [
    {
     "name": "stdout",
     "output_type": "stream",
     "text": [
      "Input: \n",
      "[[0.66666667 1.        ]\n",
      " [0.33333333 0.55555556]\n",
      " [1.         0.66666667]]\n",
      "Actual Output: \n",
      "[[0.92]\n",
      " [0.86]\n",
      " [0.89]]\n",
      "Predicted Output: \n",
      " [[0.88418822]\n",
      " [0.87601447]\n",
      " [0.88413747]]\n"
     ]
    }
   ],
   "source": [
    "print(\"Input: \\n\" + str(X))\n",
    "print(\"Actual Output: \\n\" + str(y))\n",
    "print(\"Predicted Output: \\n\", output)"
   ]
  }
 ],
 "metadata": {
  "kernelspec": {
   "display_name": "Python 3 (ipykernel)",
   "language": "python",
   "name": "python3"
  },
  "language_info": {
   "codemirror_mode": {
    "name": "ipython",
    "version": 3
   },
   "file_extension": ".py",
   "mimetype": "text/x-python",
   "name": "python",
   "nbconvert_exporter": "python",
   "pygments_lexer": "ipython3",
   "version": "3.11.5"
  }
 },
 "nbformat": 4,
 "nbformat_minor": 5
}
